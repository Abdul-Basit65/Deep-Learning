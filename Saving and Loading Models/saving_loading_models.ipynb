{
 "cells": [
  {
   "cell_type": "code",
   "execution_count": 13,
   "id": "96e4c2c8-c806-42e4-8f64-3a1845f27a78",
   "metadata": {},
   "outputs": [],
   "source": [
    "import tensorflow as tf\n",
    "from tensorflow import keras\n",
    "from tensorflow.keras import layers,Model\n",
    "from tensorflow.keras.datasets import mnist"
   ]
  },
  {
   "cell_type": "code",
   "execution_count": 14,
   "id": "55b5c29f-4740-4924-b62c-4772b95b7243",
   "metadata": {},
   "outputs": [],
   "source": [
    "(x_train, y_train), (x_test, y_test) = mnist.load_data()\n",
    "x_train = x_train.reshape(-1, 28 * 28).astype(\"float32\") / 255.0\n",
    "x_test = x_test.reshape(-1, 28 * 28).astype(\"float32\") / 255.0"
   ]
  },
  {
   "cell_type": "code",
   "execution_count": 15,
   "id": "f2ecab02-564a-448b-b177-0bba3acdd03d",
   "metadata": {},
   "outputs": [],
   "source": [
    "# Alright, so here have some code which should feel familiar from previous tutorials,\n",
    "# here is what we want to cover\n",
    "# 1. How to save and load model weights\n",
    "# 2. Save and loading entire model (Serializing model)\n",
    "#   - Saves weights\n",
    "#   - Model architecture\n",
    "#   - Training Configuration (model.compile())\n",
    "#   - Optimizer and states\n",
    "\n",
    "# Model 1: Sequential API\n",
    "model1 = keras.Sequential([\n",
    "    layers.Dense(64, activation=\"relu\"),\n",
    "    layers.Dense(10)\n",
    "])"
   ]
  },
  {
   "cell_type": "code",
   "execution_count": 16,
   "id": "06a2da7e-16af-488b-bd3f-57e158933649",
   "metadata": {},
   "outputs": [],
   "source": [
    "# Model 2: Functional API\n",
    "inputs = keras.Input(shape=(784,))  # Fixed the shape format\n",
    "x = layers.Dense(64, activation=\"relu\")(inputs)\n",
    "outputs = layers.Dense(10)(x)\n",
    "model2 = keras.Model(inputs=inputs, outputs=outputs)\n"
   ]
  },
  {
   "cell_type": "code",
   "execution_count": 17,
   "id": "0e2167a0-ad2b-43df-b112-07d711540238",
   "metadata": {},
   "outputs": [],
   "source": [
    "class MyModel(keras.Model):\n",
    "    def __init__(self):\n",
    "        super(MyModel, self).__init__()\n",
    "        self.dense1 = layers.Dense(64, activation=\"relu\")\n",
    "        self.dense2 = layers.Dense(10)\n",
    "\n",
    "    def call(self, input_tensor):\n",
    "        x = tf.nn.relu(self.dense1(input_tensor))\n",
    "        return self.dense2(x)"
   ]
  },
  {
   "cell_type": "code",
   "execution_count": 18,
   "id": "cd77a2d3-e1b4-4f90-a29a-a2794d44f6af",
   "metadata": {},
   "outputs": [],
   "source": [
    "class MyModel(keras.Model):\n",
    "    def __init__(self):\n",
    "        super(MyModel, self).__init__()\n",
    "        self.dense1 = layers.Dense(64, activation=\"relu\")\n",
    "        self.dense2 = layers.Dense(10)\n",
    "\n",
    "    def call(self, input_tensor):\n",
    "        x = tf.nn.relu(self.dense1(input_tensor))\n",
    "        return self.dense2(x)"
   ]
  },
  {
   "cell_type": "code",
   "execution_count": 19,
   "id": "d212e4fa-f619-44f2-baeb-71fe767c216f",
   "metadata": {},
   "outputs": [],
   "source": [
    "# SavedModel format or HDF5 format\n",
    "model3 = MyModel()\n",
    "# model = keras.models.load_model('saved_model/')\n",
    "# model.load_weights('checkpoint_folder/')"
   ]
  },
  {
   "cell_type": "code",
   "execution_count": 22,
   "id": "3d25b780-53a0-404a-ad03-aaf27c772bff",
   "metadata": {},
   "outputs": [],
   "source": [
    "# Compile model3 instead of 'model'\n",
    "model3.compile(\n",
    "    loss=keras.losses.SparseCategoricalCrossentropy(from_logits=True),\n",
    "    optimizer=keras.optimizers.Adam(),\n",
    "    metrics=[\"accuracy\"],\n",
    ")"
   ]
  },
  {
   "cell_type": "code",
   "execution_count": 24,
   "id": "f8bb43af-e170-42ab-9a34-ca8c17c2dab8",
   "metadata": {},
   "outputs": [
    {
     "name": "stdout",
     "output_type": "stream",
     "text": [
      "Epoch 1/2\n",
      "1875/1875 - 10s - 6ms/step - accuracy: 0.9158 - loss: 0.2964\n",
      "Epoch 2/2\n",
      "1875/1875 - 10s - 5ms/step - accuracy: 0.9583 - loss: 0.1425\n"
     ]
    },
    {
     "data": {
      "text/plain": [
       "<keras.src.callbacks.history.History at 0x24c25556c00>"
      ]
     },
     "execution_count": 24,
     "metadata": {},
     "output_type": "execute_result"
    }
   ],
   "source": [
    "# Train model3 (since it's the custom model)\n",
    "model3.fit(x_train, y_train, batch_size=32, epochs=2, verbose=2)"
   ]
  },
  {
   "cell_type": "code",
   "execution_count": 25,
   "id": "316d874d-ab71-4ff5-b574-2b1552c1e030",
   "metadata": {},
   "outputs": [
    {
     "name": "stdout",
     "output_type": "stream",
     "text": [
      "313/313 - 2s - 5ms/step - accuracy: 0.9639 - loss: 0.1250\n"
     ]
    },
    {
     "data": {
      "text/plain": [
       "[0.12500028312206268, 0.9639000296592712]"
      ]
     },
     "execution_count": 25,
     "metadata": {},
     "output_type": "execute_result"
    }
   ],
   "source": [
    "model3.evaluate(x_test, y_test, batch_size=32, verbose=2)"
   ]
  },
  {
   "cell_type": "code",
   "execution_count": null,
   "id": "7eb2f2d6-8095-4267-b99b-93e71d2723af",
   "metadata": {},
   "outputs": [],
   "source": []
  }
 ],
 "metadata": {
  "kernelspec": {
   "display_name": "Python 3 (ipykernel)",
   "language": "python",
   "name": "python3"
  },
  "language_info": {
   "codemirror_mode": {
    "name": "ipython",
    "version": 3
   },
   "file_extension": ".py",
   "mimetype": "text/x-python",
   "name": "python",
   "nbconvert_exporter": "python",
   "pygments_lexer": "ipython3",
   "version": "3.12.4"
  }
 },
 "nbformat": 4,
 "nbformat_minor": 5
}
