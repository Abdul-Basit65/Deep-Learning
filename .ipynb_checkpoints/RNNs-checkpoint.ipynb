{
 "cells": [
  {
   "cell_type": "code",
   "execution_count": null,
   "id": "c517cad8-1487-45a0-990c-75eed0ab8715",
   "metadata": {},
   "outputs": [],
   "source": [
    "import tensorflow as tf \n",
    "from tensorflow import keras\n",
    "from tensorflow.keras import layers\n",
    "from tensorflow.keras.datasets import mnist"
   ]
  },
  {
   "cell_type": "code",
   "execution_count": null,
   "id": "73f03535-f2ba-4da0-9654-f035dd308b23",
   "metadata": {},
   "outputs": [],
   "source": [
    "# Load the dataset\n",
    "(x_train, y_train), (x_test, y_test) = mnist.load_data()"
   ]
  },
  {
   "cell_type": "code",
   "execution_count": null,
   "id": "b60c662a-eec8-437c-8013-177296164353",
   "metadata": {},
   "outputs": [],
   "source": [
    "# Reshape to (batch_size, time_steps, features) -> (60000, 28, 28)\n",
    "x_train = x_train.reshape(-1, 28, 28).astype(\"float32\") / 255.0\n",
    "x_test = x_test.reshape(-1, 28, 28).astype(\"float32\") / 255.0"
   ]
  },
  {
   "cell_type": "code",
   "execution_count": null,
   "id": "5e2ce7f7-ceb6-46ae-bf10-dba62f39c213",
   "metadata": {},
   "outputs": [],
   "source": [
    "\n",
    "# Define the model\n",
    "model = keras.Sequential()\n",
    "model.add(keras.Input(shape=(28, 28)))  # 28 time steps, 28 features per step"
   ]
  },
  {
   "cell_type": "code",
   "execution_count": null,
   "id": "6468f40f-974e-4f1a-9347-e82f7261c7c1",
   "metadata": {},
   "outputs": [],
   "source": [
    "model.add(layers.SimpleRNN(256, return_sequences=True, activation='relu'))\n",
    "model.add(layers.SimpleRNN(256, activation='relu'))\n",
    "model.add(layers.Dense(10))  # 10 output classes for digits 0-9"
   ]
  },
  {
   "cell_type": "code",
   "execution_count": 6,
   "id": "d751e966-2c52-4e8a-beec-b291ec035e68",
   "metadata": {},
   "outputs": [],
   "source": [
    "# Compile the model\n",
    "model.compile(\n",
    "    loss=keras.losses.SparseCategoricalCrossentropy(from_logits=True),\n",
    "    optimizer=keras.optimizers.Adam(learning_rate=0.01),\n",
    "    metrics=[\"accuracy\"]\n",
    ")"
   ]
  },
  {
   "cell_type": "code",
   "execution_count": 7,
   "id": "c160fa87-6ded-474a-a6f8-dc3484645ca6",
   "metadata": {},
   "outputs": [
    {
     "name": "stdout",
     "output_type": "stream",
     "text": [
      "Epoch 1/5\n",
      "938/938 - 66s - 71ms/step - accuracy: 0.6140 - loss: 1.1474\n",
      "Epoch 2/5\n",
      "938/938 - 57s - 61ms/step - accuracy: 0.4619 - loss: 1.9778\n",
      "Epoch 3/5\n",
      "938/938 - 57s - 61ms/step - accuracy: 0.1629 - loss: 154657456.0000\n",
      "Epoch 4/5\n",
      "938/938 - 57s - 61ms/step - accuracy: 0.1029 - loss: 9784122368.0000\n",
      "Epoch 5/5\n",
      "938/938 - 58s - 62ms/step - accuracy: 0.1230 - loss: 3497996.0000\n"
     ]
    },
    {
     "data": {
      "text/plain": [
       "<keras.src.callbacks.history.History at 0x28261524290>"
      ]
     },
     "execution_count": 7,
     "metadata": {},
     "output_type": "execute_result"
    }
   ],
   "source": [
    "\n",
    "# Train the model\n",
    "model.fit(x_train, y_train, batch_size=64, epochs=5, verbose=2)"
   ]
  },
  {
   "cell_type": "code",
   "execution_count": 8,
   "id": "dae916a3-55f0-4850-be11-ef4187a224d4",
   "metadata": {},
   "outputs": [
    {
     "name": "stdout",
     "output_type": "stream",
     "text": [
      "313/313 - 7s - 21ms/step - accuracy: 0.1223 - loss: 391254.9375\n"
     ]
    },
    {
     "data": {
      "text/plain": [
       "[391254.9375, 0.12229999899864197]"
      ]
     },
     "execution_count": 8,
     "metadata": {},
     "output_type": "execute_result"
    }
   ],
   "source": [
    "model.evaluate(x_test,y_test, batch_size=32, verbose=2)"
   ]
  },
  {
   "cell_type": "code",
   "execution_count": null,
   "id": "0f02ea6b-a927-40c7-bb5c-32e9cb1e3864",
   "metadata": {},
   "outputs": [],
   "source": []
  },
  {
   "cell_type": "code",
   "execution_count": 14,
   "id": "4f291988-50ff-4e01-be0d-df8096453dad",
   "metadata": {},
   "outputs": [],
   "source": [
    "#GRU"
   ]
  },
  {
   "cell_type": "code",
   "execution_count": null,
   "id": "6c340b3e-4a7f-4126-a08d-ab48784205ec",
   "metadata": {},
   "outputs": [],
   "source": [
    "# Define the model\n",
    "model = keras.Sequential()\n",
    "model.add(keras.Input(shape=(28, 28)))  # 28 time steps, 28 features per step"
   ]
  },
  {
   "cell_type": "code",
   "execution_count": null,
   "id": "6cdb9805-fa20-4162-aa3a-b6af033ee3c0",
   "metadata": {},
   "outputs": [],
   "source": [
    "# GRU layers\n",
    "model.add(layers.GRU(256, return_sequences=True, activation='relu'))  # Keeps sequence format\n",
    "model.add(layers.GRU(256, activation='relu'))  # Last GRU layer (no return_sequences)\n",
    "\n",
    "# Output layer\n",
    "model.add(layers.Dense(10))  # 10 output classes for digits 0-9"
   ]
  },
  {
   "cell_type": "code",
   "execution_count": null,
   "id": "82675c1a-7889-4530-be35-d2a18ffa0349",
   "metadata": {},
   "outputs": [],
   "source": [
    "# Compile the model\n",
    "model.compile(\n",
    "    loss=keras.losses.SparseCategoricalCrossentropy(from_logits=True),\n",
    "    optimizer=keras.optimizers.Adam(learning_rate=0.01),\n",
    "    metrics=[\"accuracy\"]\n",
    ")"
   ]
  },
  {
   "cell_type": "code",
   "execution_count": null,
   "id": "22c0393c-482a-4078-85d1-cb3aac0afa7b",
   "metadata": {},
   "outputs": [],
   "source": [
    "\n",
    "# Train the model\n",
    "model.fit(x_train, y_train, batch_size=64, epochs=5, verbose=2)"
   ]
  },
  {
   "cell_type": "code",
   "execution_count": null,
   "id": "94b44768-45d7-433a-aee1-3fd6f4d84160",
   "metadata": {},
   "outputs": [],
   "source": [
    "model.evaluate(x_test,y_test, batch_size=32, verbose=2)"
   ]
  },
  {
   "cell_type": "code",
   "execution_count": null,
   "id": "f87b6759-9658-4f93-835b-4c1ae1557cfb",
   "metadata": {},
   "outputs": [],
   "source": []
  },
  {
   "cell_type": "code",
   "execution_count": null,
   "id": "5c735be8-16d5-45e0-a428-f129d848279f",
   "metadata": {},
   "outputs": [],
   "source": [
    "#LSTMs"
   ]
  },
  {
   "cell_type": "code",
   "execution_count": null,
   "id": "91053396-fe73-4951-92a7-06849bb258a5",
   "metadata": {},
   "outputs": [],
   "source": [
    "# Define the model\n",
    "model = keras.Sequential()\n",
    "model.add(keras.Input(shape=(28, 28)))  # 28 time steps, 28 features per step"
   ]
  },
  {
   "cell_type": "code",
   "execution_count": null,
   "id": "6759a246-d6f3-491a-9c76-727126c78ede",
   "metadata": {},
   "outputs": [],
   "source": [
    "model.add(layers.LSTM(256, return_sequences=True, activation='relu'))\n",
    "model.add(layers.LSTM(256, activation='relu'))\n",
    "model.add(layers.Dense(10))  # 10 output classes for digits 0-9"
   ]
  },
  {
   "cell_type": "code",
   "execution_count": null,
   "id": "32ae4a50-48e7-4d91-91d0-4955ceaec47a",
   "metadata": {},
   "outputs": [],
   "source": [
    "# Compile the model\n",
    "model.compile(\n",
    "    loss=keras.losses.SparseCategoricalCrossentropy(from_logits=True),\n",
    "    optimizer=keras.optimizers.Adam(learning_rate=0.01),\n",
    "    metrics=[\"accuracy\"]\n",
    ")"
   ]
  },
  {
   "cell_type": "code",
   "execution_count": null,
   "id": "8abfd6ba-5888-48a1-9ab8-a11f93867ab1",
   "metadata": {},
   "outputs": [],
   "source": [
    "\n",
    "# Train the model\n",
    "model.fit(x_train, y_train, batch_size=64, epochs=5, verbose=2)"
   ]
  },
  {
   "cell_type": "code",
   "execution_count": null,
   "id": "7dec8344-767e-47db-a676-c9da8b086c39",
   "metadata": {},
   "outputs": [],
   "source": [
    "model.evaluate(x_test,y_test, batch_size=32, verbose=2)"
   ]
  },
  {
   "cell_type": "code",
   "execution_count": null,
   "id": "053fdc14-c662-408f-80f5-f68811f10249",
   "metadata": {},
   "outputs": [],
   "source": []
  },
  {
   "cell_type": "code",
   "execution_count": null,
   "id": "7fbda342-d48c-4264-be43-e5ec646c6008",
   "metadata": {},
   "outputs": [],
   "source": [
    "#Bidirectionality"
   ]
  },
  {
   "cell_type": "code",
   "execution_count": null,
   "id": "466e501a-9fb4-4257-bf60-198afa7fb304",
   "metadata": {},
   "outputs": [],
   "source": [
    "# Define the model\n",
    "model = keras.Sequential()\n",
    "model.add(keras.Input(shape=(28, 28)))  # 28 time steps, 28 features per step"
   ]
  },
  {
   "cell_type": "code",
   "execution_count": null,
   "id": "4599c5f5-98cd-47e5-a34e-c88de16ac0d0",
   "metadata": {},
   "outputs": [],
   "source": [
    "model.add(\n",
    "    layers.Bidirectionality(\n",
    "        layers.LSTM(256, return_sequences=True, activation='tench')\n",
    "    )\n",
    ")\n",
    "model.add(\n",
    "    layers.Bidirectionality(\n",
    "        layers.LSTM(256, activation='tench')\n",
    "    )\n",
    ")\n",
    "model.add(layers.Dense(10))  # 10 output classes for digits 0-9"
   ]
  },
  {
   "cell_type": "code",
   "execution_count": null,
   "id": "0b09e692-493d-40c1-8585-6295dc2528eb",
   "metadata": {},
   "outputs": [],
   "source": [
    "# Compile the model\n",
    "model.compile(\n",
    "    loss=keras.losses.SparseCategoricalCrossentropy(from_logits=True),\n",
    "    optimizer=keras.optimizers.Adam(learning_rate=0.01),\n",
    "    metrics=[\"accuracy\"]\n",
    ")"
   ]
  },
  {
   "cell_type": "code",
   "execution_count": null,
   "id": "9f85d1b5-ed3b-4b81-8947-6afa8cceb85a",
   "metadata": {},
   "outputs": [],
   "source": [
    "\n",
    "# Train the model\n",
    "model.fit(x_train, y_train, batch_size=64, epochs=5, verbose=2)"
   ]
  },
  {
   "cell_type": "code",
   "execution_count": null,
   "id": "16291c2f-f82f-4b67-8ef4-bc114d1849ff",
   "metadata": {},
   "outputs": [],
   "source": [
    "model.evaluate(x_test,y_test, batch_size=32, verbose=2)"
   ]
  },
  {
   "cell_type": "code",
   "execution_count": null,
   "id": "02f46010-0178-4680-9167-24b023783b4f",
   "metadata": {},
   "outputs": [],
   "source": []
  },
  {
   "cell_type": "code",
   "execution_count": null,
   "id": "682d678f-89b6-4259-84bc-b1bf19b5e7e6",
   "metadata": {},
   "outputs": [],
   "source": []
  }
 ],
 "metadata": {
  "kernelspec": {
   "display_name": "Python 3 (ipykernel)",
   "language": "python",
   "name": "python3"
  },
  "language_info": {
   "codemirror_mode": {
    "name": "ipython",
    "version": 3
   },
   "file_extension": ".py",
   "mimetype": "text/x-python",
   "name": "python",
   "nbconvert_exporter": "python",
   "pygments_lexer": "ipython3",
   "version": "3.12.4"
  }
 },
 "nbformat": 4,
 "nbformat_minor": 5
}
