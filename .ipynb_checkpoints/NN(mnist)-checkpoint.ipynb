{
 "cells": [
  {
   "cell_type": "code",
   "execution_count": 1,
   "id": "749cd75b-a598-42ae-b94c-0c1da55f3e0f",
   "metadata": {},
   "outputs": [],
   "source": [
    "import tensorflow as tf \n",
    "from tensorflow import keras\n",
    "from tensorflow.keras import layers\n",
    "from tensorflow.keras.datasets import mnist"
   ]
  },
  {
   "cell_type": "code",
   "execution_count": 2,
   "id": "6f4a2a14-b133-4c39-b640-ccdfa1666827",
   "metadata": {},
   "outputs": [],
   "source": [
    "# Load the dataset\n",
    "(x_train, y_train), (x_test, y_test) = mnist.load_data()"
   ]
  },
  {
   "cell_type": "code",
   "execution_count": 3,
   "id": "852f651e-f487-4dd9-ac89-08fa7b113e89",
   "metadata": {},
   "outputs": [
    {
     "name": "stdout",
     "output_type": "stream",
     "text": [
      "x_train shape: (60000, 28, 28)\n",
      "y_train shape: (60000,)\n",
      "x_test shape: (10000, 28, 28)\n",
      "y_test shape: (10000,)\n"
     ]
    }
   ],
   "source": [
    "# Check the shapes of the loaded data\n",
    "print(\"x_train shape:\", x_train.shape)\n",
    "print(\"y_train shape:\", y_train.shape)\n",
    "print(\"x_test shape:\", x_test.shape)\n",
    "print(\"y_test shape:\", y_test.shape)"
   ]
  },
  {
   "cell_type": "code",
   "execution_count": 4,
   "id": "2deab62b-dfc1-4743-b6b8-58cf15071073",
   "metadata": {},
   "outputs": [],
   "source": [
    "x_train= x_train.reshape(-1, 28*28).astype(\"float32\") / 255.0\n",
    "x_test= x_test.reshape(-1, 28*28).astype(\"float32\") / 255.0"
   ]
  },
  {
   "cell_type": "code",
   "execution_count": 5,
   "id": "e055ba4b-8467-47dc-a955-c13dc0865663",
   "metadata": {},
   "outputs": [
    {
     "data": {
      "text/plain": [
       "(array([[0., 0., 0., ..., 0., 0., 0.],\n",
       "        [0., 0., 0., ..., 0., 0., 0.],\n",
       "        [0., 0., 0., ..., 0., 0., 0.],\n",
       "        ...,\n",
       "        [0., 0., 0., ..., 0., 0., 0.],\n",
       "        [0., 0., 0., ..., 0., 0., 0.],\n",
       "        [0., 0., 0., ..., 0., 0., 0.]], dtype=float32),\n",
       " array([[0., 0., 0., ..., 0., 0., 0.],\n",
       "        [0., 0., 0., ..., 0., 0., 0.],\n",
       "        [0., 0., 0., ..., 0., 0., 0.],\n",
       "        ...,\n",
       "        [0., 0., 0., ..., 0., 0., 0.],\n",
       "        [0., 0., 0., ..., 0., 0., 0.],\n",
       "        [0., 0., 0., ..., 0., 0., 0.]], dtype=float32))"
      ]
     },
     "execution_count": 5,
     "metadata": {},
     "output_type": "execute_result"
    }
   ],
   "source": [
    "x_train , x_test"
   ]
  },
  {
   "cell_type": "code",
   "execution_count": 6,
   "id": "979c9b39-b745-4669-856f-dc55093e3ae2",
   "metadata": {},
   "outputs": [],
   "source": [
    "#Sequental API of Keras"
   ]
  },
  {
   "cell_type": "code",
   "execution_count": 7,
   "id": "c58edcbb-a9f0-4ad6-8758-8e19d1673030",
   "metadata": {},
   "outputs": [],
   "source": [
    "model = keras.Sequential(\n",
    "    [\n",
    "        layers.Dense(512, activation='relu'),\n",
    "        layers.Dense(256, activation='relu'),\n",
    "        layers.Dense(10),\n",
    "    ]\n",
    ")"
   ]
  },
  {
   "cell_type": "code",
   "execution_count": 9,
   "id": "07ab0474-c897-4b4a-bb2f-98ad5d00abff",
   "metadata": {},
   "outputs": [],
   "source": [
    "model.compile(\n",
    "    loss=keras.losses.SparseCategoricalCrossentropy(from_logits=True),\n",
    "    optimizer=keras.optimizers.Adam(learning_rate=0.01),  # Corrected this line\n",
    "    metrics=[\"accuracy\"]  # Fixed spelling error in 'metrics'\n",
    ")\n"
   ]
  },
  {
   "cell_type": "code",
   "execution_count": 12,
   "id": "a1b1a8b3-a5c9-4a5b-9526-0d947bc2772c",
   "metadata": {},
   "outputs": [
    {
     "name": "stdout",
     "output_type": "stream",
     "text": [
      "Epoch 1/5\n",
      "1875/1875 - 17s - 9ms/step - accuracy: 0.9691 - loss: 0.1253\n",
      "Epoch 2/5\n",
      "1875/1875 - 22s - 12ms/step - accuracy: 0.9707 - loss: 0.1179\n",
      "Epoch 3/5\n",
      "1875/1875 - 41s - 22ms/step - accuracy: 0.9725 - loss: 0.1121\n",
      "Epoch 4/5\n",
      "1875/1875 - 35s - 19ms/step - accuracy: 0.9738 - loss: 0.1145\n",
      "Epoch 5/5\n",
      "1875/1875 - 16s - 8ms/step - accuracy: 0.9744 - loss: 0.1114\n"
     ]
    },
    {
     "data": {
      "text/plain": [
       "<keras.src.callbacks.history.History at 0x25833060230>"
      ]
     },
     "execution_count": 12,
     "metadata": {},
     "output_type": "execute_result"
    }
   ],
   "source": [
    "model.fit(x_train,y_train, batch_size=32, epochs=5, verbose=2)"
   ]
  },
  {
   "cell_type": "code",
   "execution_count": 13,
   "id": "f1d59eb8-17a3-4c2f-8656-cb6ca90ccdc4",
   "metadata": {},
   "outputs": [
    {
     "name": "stdout",
     "output_type": "stream",
     "text": [
      "313/313 - 1s - 4ms/step - accuracy: 0.9658 - loss: 0.1980\n"
     ]
    },
    {
     "data": {
      "text/plain": [
       "[0.1980382204055786, 0.9657999873161316]"
      ]
     },
     "execution_count": 13,
     "metadata": {},
     "output_type": "execute_result"
    }
   ],
   "source": [
    "model.evaluate(x_test,y_test, batch_size=32, verbose=2)"
   ]
  },
  {
   "cell_type": "code",
   "execution_count": 14,
   "id": "2500fac7-7a7f-4220-b270-effa6a0d1382",
   "metadata": {},
   "outputs": [],
   "source": [
    "#Functional API of Keras"
   ]
  },
  {
   "cell_type": "code",
   "execution_count": 16,
   "id": "ad8b0582-29d7-48c5-8fa3-dae421168338",
   "metadata": {},
   "outputs": [],
   "source": [
    "inputs = keras.Input(shape=(784,))  # Corrected \"input\" to \"Input\"\n",
    "x = layers.Dense(512, activation='relu')(inputs)\n",
    "x = layers.Dense(256, activation='relu')(x)\n",
    "outputs = layers.Dense(10, activation='softmax')(x)\n",
    "model.keras.Model(inputs=inputs, outputs= outputs)"
   ]
  },
  {
   "cell_type": "code",
   "execution_count": 17,
   "id": "68d048b2-a673-4fc8-8ef7-e33c71ae90d0",
   "metadata": {},
   "outputs": [],
   "source": [
    "model.compile(\n",
    "    loss=keras.losses.SparseCategoricalCrossentropy(from_logits=False),\n",
    "    optimizer=keras.optimizers.Adam(learning_rate=0.01),  # Corrected this line\n",
    "    metrics=[\"accuracy\"]  # Fixed spelling error in 'metrics'\n",
    ")\n"
   ]
  },
  {
   "cell_type": "code",
   "execution_count": 18,
   "id": "03dbb528-e357-4b09-8ccc-d7d09a24424d",
   "metadata": {},
   "outputs": [
    {
     "name": "stdout",
     "output_type": "stream",
     "text": [
      "Epoch 1/5\n",
      "1875/1875 - 29s - 15ms/step - accuracy: 0.6604 - loss: 1.4510\n",
      "Epoch 2/5\n",
      "1875/1875 - 20s - 10ms/step - accuracy: 0.3668 - loss: 2.0388\n",
      "Epoch 3/5\n",
      "1875/1875 - 21s - 11ms/step - accuracy: 0.3397 - loss: 2.0704\n",
      "Epoch 4/5\n",
      "1875/1875 - 25s - 13ms/step - accuracy: 0.3164 - loss: 2.0790\n",
      "Epoch 5/5\n",
      "1875/1875 - 25s - 13ms/step - accuracy: 0.3147 - loss: 2.1514\n"
     ]
    },
    {
     "data": {
      "text/plain": [
       "<keras.src.callbacks.history.History at 0x2584debdb80>"
      ]
     },
     "execution_count": 18,
     "metadata": {},
     "output_type": "execute_result"
    }
   ],
   "source": [
    "model.fit(x_train,y_train, batch_size=32, epochs=5, verbose=2)"
   ]
  },
  {
   "cell_type": "code",
   "execution_count": 19,
   "id": "699e8db4-85c9-442e-af77-145f3b623760",
   "metadata": {},
   "outputs": [
    {
     "name": "stdout",
     "output_type": "stream",
     "text": [
      "313/313 - 2s - 7ms/step - accuracy: 0.3341 - loss: 2.1419\n"
     ]
    },
    {
     "data": {
      "text/plain": [
       "[2.141868829727173, 0.33410000801086426]"
      ]
     },
     "execution_count": 19,
     "metadata": {},
     "output_type": "execute_result"
    }
   ],
   "source": [
    "model.evaluate(x_test,y_test, batch_size=32, verbose=2)"
   ]
  },
  {
   "cell_type": "code",
   "execution_count": null,
   "id": "e5ce7692-d11a-4c67-8116-2ba375fd2232",
   "metadata": {},
   "outputs": [],
   "source": []
  }
 ],
 "metadata": {
  "kernelspec": {
   "display_name": "Python 3 (ipykernel)",
   "language": "python",
   "name": "python3"
  },
  "language_info": {
   "codemirror_mode": {
    "name": "ipython",
    "version": 3
   },
   "file_extension": ".py",
   "mimetype": "text/x-python",
   "name": "python",
   "nbconvert_exporter": "python",
   "pygments_lexer": "ipython3",
   "version": "3.12.4"
  }
 },
 "nbformat": 4,
 "nbformat_minor": 5
}
