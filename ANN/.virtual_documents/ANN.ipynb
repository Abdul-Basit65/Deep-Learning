import pandas as pd 
from sklearn.preprocessing import StandardScaler
from sklearn.model_selection import train_test_split
import matplotlib.pyplot as plt 


dataset= pd.read_csv("Churn_Modelling.csv")
dataset.head(3)


dataset.info()


# Drop specified columns
dataset = dataset.drop(['RowNumber', 'CustomerId', 'Surname', 'Geography', 'Gender'], axis=1)
# Check the updated DataFrame
dataset.head(5)



input_data= dataset.iloc[:,:-1]
output_data= dataset.iloc[:,-1]


ss= StandardScaler()
input_data= pd.DataFrame(ss.fit_transform(input_data),columns=input_data.columns)


input_data.head(5)


dataset.shape


x_train, x_test, y_train, y_test = train_test_split(input_data, output_data, test_size=0.2, random_state=42)


x_train.shape


x_test


import tensorflow


from keras.layers import Dense,BatchNormalization, Dropout
from keras.models import Sequential
from keras.callbacks import EarlyStopping
from keras.regularizers import L2


ann= Sequential()


#ann.add(Dense(7, input_dim=8, activation="relu", kernel_regularizer=L2(l2=0.01)))
#ann.add(Dense(4, activation="relu"))
#ann.add(Dense(2, activation="relu"))
#ann.add(Dense(1, activation="sigmoid"))


ann.add(Dense(6, input_dim=8, activation="relu"))
ann.add(BatchNormalization())
#ann.add(Dropout(0.5))
ann.add(Dense(4, activation="relu"))
ann.add(BatchNormalization())
#ann.add(Dropout(0.5))
ann.add(Dense(2, activation="relu"))
ann.add(BatchNormalization())
#ann.add(Dropout(0.3))
ann.add(Dense(1, activation="sigmoid"))


ann.compile(optimizer="adam", loss="binary_crossentropy", metrics=['accuracy'])


ann.fit(x_train,y_train, batch_size=100, epochs=60, validation_data=(x_test,y_test), callbacks=EarlyStopping())





train_accuracy=ann.history.history["accuracy"]
test_accuracy=ann.history.history["val_accuracy"]


len(train_accuracy), len(test_accuracy)


plt.plot([i for i in range(1,20)], train_accuracy)
plt.plot([i for i in range(1,20)], test_accuracy, c='red')
plt.show()






prd1= ann.predict(x_train)
prd_data1= []
for i in prd1 :
    if i[0] >0.5:
        prd_data1.append(1)
    else: 
        prd_data1.append(0)


prd= ann.predict(x_test)
prd_data= []
for i in prd :
    if i[0] >0.5:
        prd_data.append(1)
    else: 
        prd_data.append(0)


prd_data


from sklearn.metrics import accuracy_score


accuracy_score(y_test,prd_data)*100


accuracy_score(y_train,prd_data1)*100





import numpy as np

# Input data as a NumPy array
input_data = np.array([[-0.564197, -0.660018, -0.695982, 0.324119, 0.807737, -1.547768, -1.030670, -1.013811]])

# Make a prediction
prd = ann.predict(input_data)

# Convert predictions to binary values (0 or 1)
prd_data = [1 if i[0] > 0.5 else 0 for i in prd]

print(prd_data)


y_test












