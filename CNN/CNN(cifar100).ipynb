{
 "cells": [
  {
   "cell_type": "code",
   "execution_count": 1,
   "id": "d87fa097-005c-48c7-aa4d-75fb9e71a2bb",
   "metadata": {},
   "outputs": [],
   "source": [
    "#Convolutional Neural Networks with Sequential and Functional API"
   ]
  },
  {
   "cell_type": "code",
   "execution_count": 26,
   "id": "94568424-fb90-4cd1-bbb1-1e3dc171cf89",
   "metadata": {},
   "outputs": [],
   "source": [
    "import tensorflow as tf \n",
    "from tensorflow import keras\n",
    "from tensorflow.keras import layers\n",
    "from tensorflow.keras.regularizers import l2  # Import L2 regularizer\n",
    "from tensorflow.keras.datasets import cifar100"
   ]
  },
  {
   "cell_type": "code",
   "execution_count": 4,
   "id": "15e8a0a0-4ab4-4267-8c1a-c7b9b9b0d4a8",
   "metadata": {},
   "outputs": [
    {
     "name": "stdout",
     "output_type": "stream",
     "text": [
      "Downloading data from https://www.cs.toronto.edu/~kriz/cifar-100-python.tar.gz\n",
      "\u001b[1m169001437/169001437\u001b[0m \u001b[32m━━━━━━━━━━━━━━━━━━━━\u001b[0m\u001b[37m\u001b[0m \u001b[1m109s\u001b[0m 1us/step\n"
     ]
    }
   ],
   "source": [
    "# Load the dataset\n",
    "(x_train, y_train), (x_test, y_test) = cifar100.load_data()"
   ]
  },
  {
   "cell_type": "code",
   "execution_count": 5,
   "id": "9a3711b3-54ee-4980-bd7a-0fe2e77dd1c0",
   "metadata": {},
   "outputs": [],
   "source": [
    "x_train= x_train.astype(\"float32\") / 255.0\n",
    "x_test= x_test.astype(\"float32\") / 255.0"
   ]
  },
  {
   "cell_type": "code",
   "execution_count": 6,
   "id": "3f83c0a1-ad46-4e87-aa8c-9e2259f9cd1e",
   "metadata": {},
   "outputs": [],
   "source": [
    "#Sequental API of Keras"
   ]
  },
  {
   "cell_type": "code",
   "execution_count": 12,
   "id": "c0d574a9-4bdd-42c0-bb90-c1ce8ce965c5",
   "metadata": {},
   "outputs": [],
   "source": [
    "model = keras.Sequential(\n",
    "    [\n",
    "        keras.Input(shape=(32, 32, 3)),  # Corrected from keras.input() to keras.Input()\n",
    "        layers.Conv2D(32, 3, padding='valid', activation='relu'),\n",
    "        layers.MaxPooling2D(pool_size=(2,2)),\n",
    "        layers.Conv2D(64, 3, activation='relu'),\n",
    "        layers.MaxPooling2D(),\n",
    "        layers.Conv2D(128, 3, activation='relu'),\n",
    "        layers.Flatten(),\n",
    "        layers.Dense(64, activation='relu'),\n",
    "        layers.Dense(100)\n",
    "    ]\n",
    ")"
   ]
  },
  {
   "cell_type": "code",
   "execution_count": 13,
   "id": "758a316a-14f8-4932-aad3-ae29dde59e75",
   "metadata": {},
   "outputs": [],
   "source": [
    "model.compile(\n",
    "    loss=keras.losses.SparseCategoricalCrossentropy(from_logits=True),\n",
    "    optimizer=keras.optimizers.Adam(learning_rate=3e-4),  # Corrected this line\n",
    "    metrics=[\"accuracy\"]  # Fixed spelling error in 'metrics'\n",
    ")\n"
   ]
  },
  {
   "cell_type": "code",
   "execution_count": 14,
   "id": "7003afcf-6e0b-4918-b705-22ee398af60e",
   "metadata": {},
   "outputs": [
    {
     "name": "stdout",
     "output_type": "stream",
     "text": [
      "Epoch 1/5\n",
      "1563/1563 - 66s - 42ms/step - accuracy: 0.0741 - loss: 4.1236\n",
      "Epoch 2/5\n",
      "1563/1563 - 62s - 39ms/step - accuracy: 0.1649 - loss: 3.5487\n",
      "Epoch 3/5\n",
      "1563/1563 - 61s - 39ms/step - accuracy: 0.2119 - loss: 3.2688\n",
      "Epoch 4/5\n",
      "1563/1563 - 58s - 37ms/step - accuracy: 0.2503 - loss: 3.0637\n",
      "Epoch 5/5\n",
      "1563/1563 - 58s - 37ms/step - accuracy: 0.2813 - loss: 2.9069\n"
     ]
    },
    {
     "data": {
      "text/plain": [
       "<keras.src.callbacks.history.History at 0x1f281a51070>"
      ]
     },
     "execution_count": 14,
     "metadata": {},
     "output_type": "execute_result"
    }
   ],
   "source": [
    "model.fit(x_train,y_train, batch_size=32, epochs=5, verbose=2)"
   ]
  },
  {
   "cell_type": "code",
   "execution_count": 17,
   "id": "f3694c5c-2b7f-4b83-9d1a-f78fc826617e",
   "metadata": {},
   "outputs": [
    {
     "name": "stdout",
     "output_type": "stream",
     "text": [
      "313/313 - 4s - 13ms/step - accuracy: 0.2793 - loss: 2.9192\n"
     ]
    },
    {
     "data": {
      "text/plain": [
       "[2.9191782474517822, 0.2793000042438507]"
      ]
     },
     "execution_count": 17,
     "metadata": {},
     "output_type": "execute_result"
    }
   ],
   "source": [
    "model.evaluate(x_test,y_test, batch_size=32, verbose=2)"
   ]
  },
  {
   "cell_type": "code",
   "execution_count": 21,
   "id": "44665534-2a1c-4a82-a2a1-339773999c4d",
   "metadata": {},
   "outputs": [],
   "source": [
    "# Define the CNN model with BatchNormalization\n",
    "model = keras.Sequential([\n",
    "    keras.Input(shape=(32, 32, 3)),  # Input layer\n",
    "\n",
    "    layers.Conv2D(32, (3, 3), padding='same', activation='relu'),\n",
    "    layers.BatchNormalization(),  # Batch Normalization after Conv layer\n",
    "    layers.MaxPooling2D(pool_size=(2, 2)),\n",
    "\n",
    "    layers.Conv2D(64, (3, 3), padding='same', activation='relu'),\n",
    "    layers.BatchNormalization(),\n",
    "    layers.MaxPooling2D(pool_size=(2, 2)),\n",
    "\n",
    "    layers.Conv2D(128, (3, 3), padding='same', activation='relu'),\n",
    "    layers.BatchNormalization(),\n",
    "    layers.MaxPooling2D(pool_size=(2, 2)),\n",
    "\n",
    "    layers.Flatten(),\n",
    "    layers.Dense(64, activation='relu'),\n",
    "    layers.BatchNormalization(),\n",
    "    layers.Dense(100, activation='softmax')  # Output layer for CIFAR-10 (10 classes)\n",
    "])"
   ]
  },
  {
   "cell_type": "code",
   "execution_count": 22,
   "id": "c79c4fc5-cd02-4eae-a4c3-b67f2e50210b",
   "metadata": {},
   "outputs": [],
   "source": [
    "# Compile the model\n",
    "model.compile(optimizer='adam',\n",
    "              loss='sparse_categorical_crossentropy',\n",
    "              metrics=['accuracy'])"
   ]
  },
  {
   "cell_type": "code",
   "execution_count": 23,
   "id": "51336614-c7e3-4cfa-adca-5a4d5910f121",
   "metadata": {},
   "outputs": [
    {
     "name": "stdout",
     "output_type": "stream",
     "text": [
      "Epoch 1/5\n",
      "1563/1563 - 122s - 78ms/step - accuracy: 0.2248 - loss: 3.2738\n",
      "Epoch 2/5\n",
      "1563/1563 - 138s - 88ms/step - accuracy: 0.3861 - loss: 2.4006\n",
      "Epoch 3/5\n",
      "1563/1563 - 129s - 83ms/step - accuracy: 0.4664 - loss: 2.0289\n",
      "Epoch 4/5\n",
      "1563/1563 - 165s - 105ms/step - accuracy: 0.5257 - loss: 1.7681\n",
      "Epoch 5/5\n",
      "1563/1563 - 155s - 99ms/step - accuracy: 0.5751 - loss: 1.5524\n"
     ]
    },
    {
     "data": {
      "text/plain": [
       "<keras.src.callbacks.history.History at 0x1f2f9062450>"
      ]
     },
     "execution_count": 23,
     "metadata": {},
     "output_type": "execute_result"
    }
   ],
   "source": [
    "model.fit(x_train,y_train, batch_size=32, epochs=5, verbose=2)"
   ]
  },
  {
   "cell_type": "code",
   "execution_count": 24,
   "id": "9c402aeb-d95a-4cba-87e4-4db5890c76e4",
   "metadata": {},
   "outputs": [
    {
     "name": "stdout",
     "output_type": "stream",
     "text": [
      "313/313 - 5s - 17ms/step - accuracy: 0.4069 - loss: 2.4104\n"
     ]
    },
    {
     "data": {
      "text/plain": [
       "[2.410444498062134, 0.40689998865127563]"
      ]
     },
     "execution_count": 24,
     "metadata": {},
     "output_type": "execute_result"
    }
   ],
   "source": [
    "model.evaluate(x_test,y_test, batch_size=32, verbose=2)"
   ]
  },
  {
   "cell_type": "code",
   "execution_count": 27,
   "id": "76960a75-7b36-4923-88ab-b4835f3766ff",
   "metadata": {},
   "outputs": [],
   "source": [
    "# Define the CNN model with BatchNormalization, L2 Regularization, and Dropout\n",
    "model = keras.Sequential([\n",
    "    keras.Input(shape=(32, 32, 3)),  # Input layer\n",
    "\n",
    "    layers.Conv2D(32, (3, 3), padding='same', activation='relu',\n",
    "                  kernel_regularizer=l2(0.001)),  # L2 Regularization\n",
    "    layers.BatchNormalization(),\n",
    "    layers.MaxPooling2D(pool_size=(2, 2)),\n",
    "    layers.Dropout(0.25),  # Dropout after pooling\n",
    "\n",
    "    layers.Conv2D(64, (3, 3), padding='same', activation='relu',\n",
    "                  kernel_regularizer=l2(0.001)),  # L2 Regularization\n",
    "    layers.BatchNormalization(),\n",
    "    layers.MaxPooling2D(pool_size=(2, 2)),\n",
    "    layers.Dropout(0.25),  # Dropout after pooling\n",
    "\n",
    "    layers.Conv2D(128, (3, 3), padding='same', activation='relu',\n",
    "                  kernel_regularizer=l2(0.001)),  # L2 Regularization\n",
    "    layers.BatchNormalization(),\n",
    "    layers.MaxPooling2D(pool_size=(2, 2)),\n",
    "    layers.Dropout(0.25),  # Dropout after pooling\n",
    "\n",
    "    layers.Flatten(),\n",
    "    layers.Dense(64, activation='relu', kernel_regularizer=l2(0.001)),  # L2 Regularization in Dense Layer\n",
    "    layers.BatchNormalization(),\n",
    "    layers.Dropout(0.5),  # Dropout before output layer\n",
    "    layers.Dense(100, activation='softmax')  # Output layer for CIFAR-10 (10 classes)\n",
    "])\n"
   ]
  },
  {
   "cell_type": "code",
   "execution_count": 28,
   "id": "a50a4837-4c78-46a3-b954-dc41e0007461",
   "metadata": {},
   "outputs": [],
   "source": [
    "# Compile the model\n",
    "model.compile(optimizer='adam',\n",
    "              loss='sparse_categorical_crossentropy',\n",
    "              metrics=['accuracy'])"
   ]
  },
  {
   "cell_type": "code",
   "execution_count": 29,
   "id": "7fa01c28-f747-4fe4-b5bc-27df712ca126",
   "metadata": {},
   "outputs": [
    {
     "name": "stdout",
     "output_type": "stream",
     "text": [
      "Epoch 1/5\n",
      "1563/1563 - 111s - 71ms/step - accuracy: 0.0977 - loss: 4.2632\n",
      "Epoch 2/5\n",
      "1563/1563 - 138s - 88ms/step - accuracy: 0.1841 - loss: 3.6504\n",
      "Epoch 3/5\n",
      "1563/1563 - 98s - 62ms/step - accuracy: 0.2314 - loss: 3.4365\n",
      "Epoch 4/5\n",
      "1563/1563 - 144s - 92ms/step - accuracy: 0.2562 - loss: 3.3328\n",
      "Epoch 5/5\n",
      "1563/1563 - 101s - 65ms/step - accuracy: 0.2724 - loss: 3.2750\n"
     ]
    },
    {
     "data": {
      "text/plain": [
       "<keras.src.callbacks.history.History at 0x1f2803c3080>"
      ]
     },
     "execution_count": 29,
     "metadata": {},
     "output_type": "execute_result"
    }
   ],
   "source": [
    "model.fit(x_train,y_train, batch_size=32, epochs=5, verbose=2)"
   ]
  },
  {
   "cell_type": "code",
   "execution_count": 31,
   "id": "d83ee964-9e08-4c01-8775-84eed182936b",
   "metadata": {},
   "outputs": [
    {
     "name": "stdout",
     "output_type": "stream",
     "text": [
      "313/313 - 5s - 16ms/step - accuracy: 0.2969 - loss: 3.2053\n"
     ]
    },
    {
     "data": {
      "text/plain": [
       "[3.205326557159424, 0.2969000041484833]"
      ]
     },
     "execution_count": 31,
     "metadata": {},
     "output_type": "execute_result"
    }
   ],
   "source": [
    "model.evaluate(x_test,y_test, batch_size=32, verbose=2)"
   ]
  },
  {
   "cell_type": "code",
   "execution_count": null,
   "id": "f18cb605-7003-4fd4-b0e8-af586c1b6dfe",
   "metadata": {},
   "outputs": [],
   "source": []
  },
  {
   "cell_type": "code",
   "execution_count": null,
   "id": "5a5fc3d8-8a7f-4545-9ba9-b7dda8fa999e",
   "metadata": {},
   "outputs": [],
   "source": []
  }
 ],
 "metadata": {
  "kernelspec": {
   "display_name": "Python 3 (ipykernel)",
   "language": "python",
   "name": "python3"
  },
  "language_info": {
   "codemirror_mode": {
    "name": "ipython",
    "version": 3
   },
   "file_extension": ".py",
   "mimetype": "text/x-python",
   "name": "python",
   "nbconvert_exporter": "python",
   "pygments_lexer": "ipython3",
   "version": "3.12.4"
  }
 },
 "nbformat": 4,
 "nbformat_minor": 5
}
